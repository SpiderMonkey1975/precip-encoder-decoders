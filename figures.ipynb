{
 "cells": [
  {
   "cell_type": "code",
   "execution_count": 18,
   "metadata": {},
   "outputs": [
    {
     "name": "stdout",
     "output_type": "stream",
     "text": [
      "0.3011\n",
      "[ 0.3011  0.3011  0.3026  0.3026  0.303   0.303   0.3034  0.3034  0.3039\n",
      "  0.3039  0.304   0.304   0.3044  0.3044  0.3045  0.3045  0.3046  0.3046\n",
      "  0.3061  0.3061  0.3064  0.3064  0.3098  0.3098  0.3123  0.3123  0.3128\n",
      "  0.3128  0.3187  0.3187  0.32    0.32    0.3203  0.3203  0.3215  0.3215\n",
      "  0.322   0.322   0.3248  0.3248  0.3269  0.3269  0.3297  0.3297  0.3314\n",
      "  0.3314  0.333   0.333   0.3358  0.3367  0.3367  0.3376  0.3376  0.3381\n",
      "  0.3382  0.3382  0.34    0.34    0.3401  0.3401  0.3486  0.3486  0.3501\n",
      "  0.3501  0.3522  0.3522  0.3529  0.3543  0.3543  0.3555  0.3555  0.36\n",
      "  0.36    0.3617  0.3628  0.3628  0.3643  0.3643  0.3684  0.3684  0.3712\n",
      "  0.3712  0.374   0.374   0.3755  0.3755  0.3761  0.3793  0.3793  0.3793\n",
      "  0.3808  0.3808  0.3819  0.3868  0.3868  0.3909  0.3919  0.3919  0.3948\n",
      "  0.4213]\n"
     ]
    },
    {
     "data": {
      "image/png": "[encoded data removed]",
      "text/plain": [
       "<matplotlib.figure.Figure at 0x1108bfed0>"
      ]
     },
     "metadata": {},
     "output_type": "display_data"
    }
   ],
   "source": [
    "import numpy as np\n",
    "import matplotlib.pyplot as plt\n",
    "import seaborn as sns\n",
    "\n",
    "# figures inline in notebook\n",
    "%matplotlib inline\n",
    "\n",
    "sns.set_palette(\"Greens\")\n",
    "\n",
    "corrmat = np.array([[0.3381,0.3187,0.3046,0.3045,0.3039,0.3011,0.3044,0.3034,0.3128,0.3269],\n",
    "                    [0.3187,0.3358,0.3098,0.3061,0.3040,0.3030,0.3026,0.3064,0.3123,0.3248],\n",
    "                    [0.3046,0.3098,0.3529,0.3220,0.3314,0.3200,0.3203,0.3215,0.3297,0.3376],\n",
    "                    [0.3045,0.3061,0.3220,0.3617,0.3401,0.3330,0.3382,0.3367,0.3400,0.3501],\n",
    "                    [0.3039,0.3040,0.3314,0.3401,0.3761,0.3543,0.3486,0.3522,0.3555,0.3628],\n",
    "                    [0.3011,0.3030,0.3200,0.3330,0.3543,0.3793,0.3600,0.3643,0.3684,0.3712],\n",
    "                    [0.3044,0.3026,0.3203,0.3382,0.3486,0.3600,0.3819,0.3740,0.3755,0.3793],\n",
    "                    [0.3034,0.3064,0.3215,0.3367,0.3522,0.3643,0.3740,0.3909,0.3808,0.3868],\n",
    "                    [0.3128,0.3123,0.3297,0.3400,0.3555,0.3684,0.3755,0.3808,0.3948,0.3919],\n",
    "                    [0.3269,0.3248,0.3376,0.3501,0.3628,0.3712,0.3793,0.3868,0.3919,0.4213]])\n",
    "\n",
    "#sns.palplot(sns.diverging_palette(220, 20, n=7))\n",
    "print(corrmat.min())\n",
    "sns.heatmap(corrmat, vmax=corrmat.max(), vmin=corrmat.min(), square=False).xaxis.tick_top()\n",
    "\n",
    "print(np.sort(corrmat.flatten()))"
   ]
  },
  {
   "cell_type": "code",
   "execution_count": null,
   "metadata": {
    "collapsed": true
   },
   "outputs": [],
   "source": []
  }
 ],
 "metadata": {
  "kernelspec": {
   "display_name": "Python 2",
   "language": "python",
   "name": "python2"
  },
  "language_info": {
   "codemirror_mode": {
    "name": "ipython",
    "version": 2
   },
   "file_extension": ".py",
   "mimetype": "text/x-python",
   "name": "python",
   "nbconvert_exporter": "python",
   "pygments_lexer": "ipython2",
   "version": "2.7.13"
  }
 },
 "nbformat": 4,
 "nbformat_minor": 2
}
